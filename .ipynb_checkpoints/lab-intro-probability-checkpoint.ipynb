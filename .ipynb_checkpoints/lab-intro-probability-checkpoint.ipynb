{
 "cells": [
  {
   "cell_type": "markdown",
   "metadata": {},
   "source": [
    "# Lab | Intro to Probability"
   ]
  },
  {
   "cell_type": "markdown",
   "metadata": {},
   "source": [
    "**Objective**\n",
    "\n",
    "Welcome to this Intro to Probability lab, where we explore decision-making scenarios through the lens of probability and strategic analysis. In the business world, making informed decisions is crucial, especially when faced with uncertainties. This lab focuses on scenarios where probabilistic outcomes play a significant role in shaping strategies and outcomes. Students will engage in exercises that require assessing and choosing optimal paths based on data-driven insights. The goal is to enhance your skills by applying probability concepts to solve real-world problems."
   ]
  },
  {
   "cell_type": "markdown",
   "metadata": {},
   "source": [
    "**Challenge 1**"
   ]
  },
  {
   "cell_type": "markdown",
   "metadata": {},
   "source": [
    "#### Ironhack Airlines \n",
    "\n",
    "Often Airlines sell more tickets than they have seats available, this is called overbooking. Consider the following:\n",
    "- A plane has 450 seats. \n",
    "- Based on historical data we conclude that each individual passenger has a 3% chance of missing it's flight. \n",
    "\n",
    "If the Ironhack Airlines routinely sells 460 tickets, what is the chance that they have a seats for all passenger?"
   ]
  },
  {
   "cell_type": "code",
   "execution_count": 15,
   "metadata": {},
   "outputs": [
    {
     "name": "stdout",
     "output_type": "stream",
     "text": [
      "Probability that all passengers get a seat: 88.45%\n"
     ]
    }
   ],
   "source": [
    "\n",
    "from scipy.stats import binom\n",
    "\n",
    "# Parameters\n",
    "n = 460  # Total tickets sold\n",
    "p = 0.97  # Probability of a passenger showing up\n",
    "seats = 450\n",
    "\n",
    "prob = binom.cdf(seats, n, p)\n",
    "print(f\"Probability that all passengers get a seat: {prob * 100:.2f}%\")\n",
    "\n",
    "#Binomial Distribution"
   ]
  },
  {
   "cell_type": "markdown",
   "metadata": {},
   "source": [
    "**Challenge 2**"
   ]
  },
  {
   "cell_type": "markdown",
   "metadata": {},
   "source": [
    "#### Ironhack Call Center "
   ]
  },
  {
   "cell_type": "markdown",
   "metadata": {},
   "source": [
    "Suppose a customer service representative at a call center is handling customer complaints. Consider the following:\n",
    "- The probability of successfully resolving a customer complaint on the first attempt is 0.3. \n",
    "\n",
    "\n",
    "What is the probability that the representative needs to make at least three attempts before successfully resolving a customer complaint?"
   ]
  },
  {
   "cell_type": "code",
   "execution_count": 101,
   "metadata": {},
   "outputs": [
    {
     "name": "stdout",
     "output_type": "stream",
     "text": [
      "The probability that the representative needs at least three attempts: 49.00%\n"
     ]
    }
   ],
   "source": [
    "from scipy.stats import geom\n",
    "\n",
    "p = 0.30  # Success probability\n",
    "prob = 1 - geom.cdf(2, p) \n",
    "\n",
    "print(f\"The probability that the representative needs at least three attempts: {prob * 100:.2f}%\")\n",
    "\n",
    "#Geometric Distribution:\n",
    "#geom.pmf(k): Probability Mass Function (PMF) - Finds the probability of exactly k trials before the first success.\n",
    "#geom.cdf(k): Cumulative Distribution Function (CDF) - Finds the probability that success occurs on or before k trials"
   ]
  },
  {
   "cell_type": "markdown",
   "metadata": {},
   "source": [
    "**Challenge 3**"
   ]
  },
  {
   "cell_type": "markdown",
   "metadata": {},
   "source": [
    "#### Ironhack Website"
   ]
  },
  {
   "cell_type": "markdown",
   "metadata": {},
   "source": [
    "Consider a scenario related to Ironhack website traffic. Where:\n",
    "- our website takes on average 500 visits per hour.\n",
    "- the website's server is designed to handle up to 550 vists per hour.\n",
    "\n",
    "\n",
    "What is the probability of the website server being overwhelmed?"
   ]
  },
  {
   "cell_type": "code",
   "execution_count": 103,
   "metadata": {},
   "outputs": [
    {
     "name": "stdout",
     "output_type": "stream",
     "text": [
      "Probability that the server is overwhelmed: 1.29%\n"
     ]
    }
   ],
   "source": [
    "#Poisson Distribution\n",
    "\n",
    "from scipy.stats import poisson\n",
    "\n",
    "# Define parameters\n",
    "visits = 500\n",
    "threshold = 550\n",
    "\n",
    "poisson_dist = poisson(visits)\n",
    "\n",
    "# Probability P(X > 550): CDF gives P(x<=550), so we need to subtratc 1 to have P(X > 550)\n",
    "probability_overwhelmed = 1 - poisson_dist.cdf(threshold)\n",
    "\n",
    "print(f\"Probability that the server is overwhelmed: {probability_overwhelmed*100:.2f}%\")\n",
    "\n"
   ]
  },
  {
   "cell_type": "markdown",
   "metadata": {},
   "source": [
    "What is the probability of being overwhelmed at some point during a day? (consider 24hours)"
   ]
  },
  {
   "cell_type": "code",
   "execution_count": 105,
   "metadata": {},
   "outputs": [
    {
     "name": "stdout",
     "output_type": "stream",
     "text": [
      "The probability of being overwhelmed at some point during a day: 26.77%\n"
     ]
    }
   ],
   "source": [
    "# Probability of being overwhelmed in 1 hour\n",
    "prob_overwhelmed_hour = 1 - poisson.cdf(threshold, visits)\n",
    "\n",
    "# Probability of at least one overwhelmed hour in 24 hours\n",
    "prob_overwhelmed_day = 1 - (1 - prob_overwhelmed_hour) ** 24\n",
    "\n",
    "print(f\"The probability of being overwhelmed at some point during a day: {prob_overwhelmed_day*100:.2f}%\")\n"
   ]
  },
  {
   "cell_type": "markdown",
   "metadata": {},
   "source": [
    "**Challenge 4**"
   ]
  },
  {
   "cell_type": "markdown",
   "metadata": {},
   "source": [
    "#### Ironhack Helpdesk"
   ]
  },
  {
   "cell_type": "markdown",
   "metadata": {},
   "source": [
    "Consider a scenario related to the time between arrivals of customers at a service desk.\n",
    "\n",
    "On average, a customers arrives every 10minutes.\n",
    "\n",
    "What is the probability that the next customer will arrive within the next 5 minutes?"
   ]
  },
  {
   "cell_type": "code",
   "execution_count": 107,
   "metadata": {},
   "outputs": [
    {
     "name": "stdout",
     "output_type": "stream",
     "text": [
      "Probability that the next customer arrives within 5 minutes: 39.35%\n"
     ]
    }
   ],
   "source": [
    "#Exponential Distribution\n",
    "from scipy.stats import expon\n",
    "\n",
    "#the parameter represents the rate of events occuring per unit of time\n",
    "lambda_value = 0.1\n",
    "\n",
    "lambda_inv = expon(scale = 1/lambda_value)\n",
    "\n",
    "# Probability that next customer arrives within 5 minutes\n",
    "prob_within_5min = lambda_inv.cdf(5)\n",
    "print(f\"Probability that the next customer arrives within 5 minutes: {prob_within_5min*100:.2f}%\")\n"
   ]
  },
  {
   "cell_type": "markdown",
   "metadata": {},
   "source": [
    "If there is no customer for 15minutes, employees can that a 5minutes break.\n",
    "\n",
    "What is the probability an employee taking a break?"
   ]
  },
  {
   "cell_type": "code",
   "execution_count": 109,
   "metadata": {},
   "outputs": [
    {
     "name": "stdout",
     "output_type": "stream",
     "text": [
      "Probability that noone arrives within 15 minutes: 22.31%\n"
     ]
    }
   ],
   "source": [
    "# Probability that noone arrives within 15 minutes\n",
    "prob_none_15 = 1 - lambda_inv.cdf(15)\n",
    "print(f\"Probability that noone arrives within 15 minutes: {prob_none_15*100:.2f}%\")\n"
   ]
  },
  {
   "cell_type": "markdown",
   "metadata": {},
   "source": [
    "**Challenge 5**"
   ]
  },
  {
   "cell_type": "markdown",
   "metadata": {},
   "source": [
    "The weights of a certain species of birds follow a normal distribution with a mean weight of 150 grams and a standard deviation of 10 grams. \n",
    "\n",
    "- If we randomly select a bird, what is the probability that its weight is between 140 and 160 grams?"
   ]
  },
  {
   "cell_type": "code",
   "execution_count": 118,
   "metadata": {},
   "outputs": [
    {
     "name": "stdout",
     "output_type": "stream",
     "text": [
      "The probability the bird's  weight is between 140 and 160 grams: 68.27%\n"
     ]
    }
   ],
   "source": [
    "#Normal (Gaussian) Distribution\n",
    "\n",
    "from scipy.stats import norm\n",
    "\n",
    "mean = 150\n",
    "std = 10\n",
    "\n",
    "norm_dist = norm(loc = mean, scale = std)\n",
    "prob_140_160 = norm_dist.cdf(160) - norm_dist.cdf(140)\n",
    "print(f\"The probability the bird's  weight is between 140 and 160 grams: {prob_140_160*100:.2f}%\")\n"
   ]
  },
  {
   "cell_type": "markdown",
   "metadata": {},
   "source": [
    "**Challenge 6**"
   ]
  },
  {
   "cell_type": "markdown",
   "metadata": {},
   "source": [
    "If the lifetime (in hours) of a certain electronic component follows an exponential distribution with a mean lifetime of 50 hours, what is the probability that the component fails within the first 30 hours?"
   ]
  },
  {
   "cell_type": "code",
   "execution_count": 127,
   "metadata": {},
   "outputs": [
    {
     "name": "stdout",
     "output_type": "stream",
     "text": [
      "Probability that the component fails within 30 hours: 45.12%\n"
     ]
    }
   ],
   "source": [
    "#Exponential Distribution\n",
    "\n",
    "# Define parameters\n",
    "mean_lifetime = 50  # Given mean lifetime (hours)\n",
    "lambda_value = 1 / mean_lifetime  # Compute rate parameter\n",
    "\n",
    "# Compute probability of failure within 30 hours\n",
    "prob_fail_30h = stats.expon.cdf(30, scale=mean_lifetime)\n",
    "\n",
    "print(f\"Probability that the component fails within 30 hours: {prob_fail_30h * 100:.2f}%\")\n",
    "\n"
   ]
  },
  {
   "cell_type": "code",
   "execution_count": null,
   "metadata": {},
   "outputs": [],
   "source": []
  }
 ],
 "metadata": {
  "kernelspec": {
   "display_name": "Python 3 (ipykernel)",
   "language": "python",
   "name": "python3"
  },
  "language_info": {
   "codemirror_mode": {
    "name": "ipython",
    "version": 3
   },
   "file_extension": ".py",
   "mimetype": "text/x-python",
   "name": "python",
   "nbconvert_exporter": "python",
   "pygments_lexer": "ipython3",
   "version": "3.12.7"
  }
 },
 "nbformat": 4,
 "nbformat_minor": 4
}
